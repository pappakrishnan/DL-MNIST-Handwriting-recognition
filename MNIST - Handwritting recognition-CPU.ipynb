{
 "cells": [
  {
   "cell_type": "code",
   "execution_count": 1,
   "metadata": {
    "collapsed": true
   },
   "outputs": [],
   "source": [
    "%matplotlib inline\n",
    "\n",
    "import numpy as np\n",
    "import pandas as pd\n",
    "import lasagne\n",
    "import theano\n",
    "import theano.tensor as T\n",
    "import gzip\n",
    "from urllib.request import urlretrieve\n",
    "from scipy.misc import imread, imresize\n",
    "import matplotlib.cm as cm\n",
    "import matplotlib.pyplot as plt"
   ]
  },
  {
   "cell_type": "code",
   "execution_count": 5,
   "metadata": {
    "collapsed": true
   },
   "outputs": [],
   "source": [
    "def download_data(filename, source='http://yann.lecun.com/exdb/mnist/'):\n",
    "    urlretrieve(source + filename, filename)\n",
    "\n",
    "def load_images(filename):\n",
    "    download_data(filename)\n",
    "    # Read the inputs in Yann LeCun's binary format.\n",
    "    with gzip.open(filename, 'rb') as f:\n",
    "        data = np.frombuffer(f.read(), np.uint8, offset=16)\n",
    "\n",
    "    data = data.reshape(-1, 1, 28, 28) # reshape to represent monochrome 2D images\n",
    "    return data / np.float32(256) # normalize data\n",
    "\n",
    "def load_labels(filename):\n",
    "    download_data(filename)\n",
    "    # Read the inputs in Yann LeCun's binary format.\n",
    "    with gzip.open(filename, 'rb') as f:\n",
    "        data = np.frombuffer(f.read(), np.uint8, offset=8)\n",
    "    return data"
   ]
  },
  {
   "cell_type": "code",
   "execution_count": 6,
   "metadata": {
    "collapsed": true
   },
   "outputs": [],
   "source": [
    "X_train = load_images('train-images-idx3-ubyte.gz')\n",
    "y_train = load_labels('train-labels-idx1-ubyte.gz')\n",
    "X_test = load_images('t10k-images-idx3-ubyte.gz')\n",
    "y_test = load_labels('t10k-labels-idx1-ubyte.gz')"
   ]
  },
  {
   "cell_type": "code",
   "execution_count": 7,
   "metadata": {},
   "outputs": [
    {
     "data": {
      "text/plain": [
       "(60000, 1, 28, 28)"
      ]
     },
     "execution_count": 7,
     "metadata": {},
     "output_type": "execute_result"
    }
   ],
   "source": [
    "X_train.shape"
   ]
  },
  {
   "cell_type": "code",
   "execution_count": 8,
   "metadata": {},
   "outputs": [
    {
     "data": {
      "text/plain": [
       "(28, 28)"
      ]
     },
     "execution_count": 8,
     "metadata": {},
     "output_type": "execute_result"
    }
   ],
   "source": [
    "X_train[4][0].shape"
   ]
  },
  {
   "cell_type": "code",
   "execution_count": 9,
   "metadata": {
    "scrolled": true
   },
   "outputs": [
    {
     "data": {
      "text/plain": [
       "<matplotlib.image.AxesImage at 0x25ad3ee2940>"
      ]
     },
     "execution_count": 9,
     "metadata": {},
     "output_type": "execute_result"
    },
    {
     "data": {
      "image/png": "[encoded data removed]",
      "text/plain": [
       "<matplotlib.figure.Figure at 0x25ad0d8f630>"
      ]
     },
     "metadata": {},
     "output_type": "display_data"
    }
   ],
   "source": [
    "plts, axes = plt.subplots(1, 4, figsize = (16, 5))\n",
    "axes[0].imshow(X_train[0][0], cmap = cm.Greys)\n",
    "axes[1].imshow(X_train[1][0], cmap = cm.Greys)\n",
    "axes[2].imshow(X_train[2][0], cmap = cm.Greys)\n",
    "axes[3].imshow(X_train[3][0], cmap = cm.Greys)"
   ]
  },
  {
   "cell_type": "code",
   "execution_count": 10,
   "metadata": {},
   "outputs": [
    {
     "name": "stdout",
     "output_type": "stream",
     "text": [
      "(60000, 1, 28, 28)\n",
      "(60000,)\n"
     ]
    }
   ],
   "source": [
    "print(X_train.shape)\n",
    "print(y_train.shape)"
   ]
  },
  {
   "cell_type": "code",
   "execution_count": 11,
   "metadata": {},
   "outputs": [
    {
     "name": "stdout",
     "output_type": "stream",
     "text": [
      "5 0 4 1\n"
     ]
    }
   ],
   "source": [
    "print(y_train[0], y_train[1], y_train[2], y_train[3])"
   ]
  },
  {
   "cell_type": "code",
   "execution_count": 11,
   "metadata": {
    "collapsed": true
   },
   "outputs": [],
   "source": [
    "X_train, X_val = X_train[:-10000], X_train[-10000:]\n",
    "y_train, y_val = y_train[:-10000], y_train[-10000:]"
   ]
  },
  {
   "cell_type": "code",
   "execution_count": 13,
   "metadata": {
    "collapsed": true
   },
   "outputs": [],
   "source": [
    "# Neural Network for Training the model:\n",
    "\n",
    "from lasagne import layers\n",
    "from lasagne.updates import nesterov_momentum\n",
    "from lasagne.nonlinearities import softmax\n",
    "from nolearn.lasagne import NeuralNet"
   ]
  },
  {
   "cell_type": "code",
   "execution_count": 15,
   "metadata": {
    "scrolled": false
   },
   "outputs": [
    {
     "name": "stdout",
     "output_type": "stream",
     "text": [
      "# Neural Network with 898510 learnable parameters\n",
      "\n",
      "## Layer information\n",
      "\n",
      "  #  name     size\n",
      "---  -------  -------\n",
      "  0  input    1x28x28\n",
      "  1  hidden1  500\n",
      "  2  hidden2  500\n",
      "  3  hidden3  500\n",
      "  4  output   10\n",
      "\n",
      "  epoch    trn loss    val loss    trn/val    valid acc  dur\n",
      "-------  ----------  ----------  ---------  -----------  ------\n",
      "      1     \u001b[36m0.33349\u001b[0m     \u001b[32m0.16002\u001b[0m    2.08397      0.94993  11.43s\n",
      "      2     \u001b[36m0.11800\u001b[0m     \u001b[32m0.11470\u001b[0m    1.02870      0.96362  10.67s\n",
      "      3     \u001b[36m0.07532\u001b[0m     \u001b[32m0.10437\u001b[0m    0.72169      0.96632  10.68s\n",
      "      4     \u001b[36m0.04940\u001b[0m     \u001b[32m0.09866\u001b[0m    0.50069      0.97121  10.72s\n",
      "      5     \u001b[36m0.03331\u001b[0m     \u001b[32m0.09721\u001b[0m    0.34266      0.97221  10.91s\n",
      "      6     \u001b[36m0.02607\u001b[0m     \u001b[32m0.09480\u001b[0m    0.27495      0.97431  10.66s\n",
      "      7     \u001b[36m0.02153\u001b[0m     0.09490    0.22693      0.97551  10.82s\n",
      "      8     \u001b[36m0.01655\u001b[0m     0.09653    0.17147      0.97641  10.67s\n",
      "      9     \u001b[36m0.01403\u001b[0m     0.11254    0.12468      0.97371  10.47s\n",
      "     10     \u001b[36m0.01237\u001b[0m     0.10409    0.11884      0.97631  10.63s\n",
      "     11     \u001b[36m0.00817\u001b[0m     0.10696    0.07637      0.97741  10.84s\n",
      "     12     0.00823     0.10414    0.07902      0.97781  11.06s\n",
      "     13     \u001b[36m0.00580\u001b[0m     0.10470    0.05544      0.97941  11.11s\n",
      "     14     0.01000     0.10988    0.09097      0.97621  10.85s\n",
      "     15     0.00804     0.11984    0.06706      0.97791  10.83s\n",
      "     16     0.00626     0.11207    0.05586      0.97761  10.69s\n",
      "     17     \u001b[36m0.00460\u001b[0m     0.11106    0.04139      0.97861  10.90s\n",
      "     18     \u001b[36m0.00413\u001b[0m     0.11769    0.03507      0.97761  10.77s\n",
      "     19     0.00606     0.13774    0.04397      0.97761  10.73s\n",
      "     20     0.00672     0.10427    0.06447      0.97991  10.78s\n"
     ]
    },
    {
     "data": {
      "text/plain": [
       "NeuralNet(X_tensor_type=None,\n",
       "     batch_iterator_test=<nolearn.lasagne.base.BatchIterator object at 0x0000025AD41686A0>,\n",
       "     batch_iterator_train=<nolearn.lasagne.base.BatchIterator object at 0x0000025AD4168668>,\n",
       "     check_input=True, custom_scores=None, hidden1_num_units=500,\n",
       "     hidden2_num_units=500, hidden3_num_units=500,\n",
       "     input_shape=(None, 1, 28, 28),\n",
       "     layers=[('input', <class 'lasagne.layers.input.InputLayer'>), ('hidden1', <class 'lasagne.layers.dense.DenseLayer'>), ('hidden2', <class 'lasagne.layers.dense.DenseLayer'>), ('hidden3', <class 'lasagne.layers.dense.DenseLayer'>), ('output', <class 'lasagne.layers.dense.DenseLayer'>)],\n",
       "     loss=None, max_epochs=20, more_params={},\n",
       "     objective=<function objective at 0x0000025AD42F11E0>,\n",
       "     objective_loss_function=<function categorical_crossentropy at 0x0000025AD0D769D8>,\n",
       "     on_batch_finished=[],\n",
       "     on_epoch_finished=[<nolearn.lasagne.handlers.PrintLog object at 0x0000025AD4305198>],\n",
       "     on_training_finished=[],\n",
       "     on_training_started=[<nolearn.lasagne.handlers.PrintLayerInfo object at 0x0000025AD43051D0>],\n",
       "     output_nonlinearity=<function softmax at 0x0000025AD03229D8>,\n",
       "     output_num_units=10, regression=False, scores_train=[],\n",
       "     scores_valid=[],\n",
       "     train_split=<nolearn.lasagne.base.TrainSplit object at 0x0000025AD3F0B780>,\n",
       "     update=<function nesterov_momentum at 0x0000025AD0D79598>,\n",
       "     update_learning_rate=0.05, update_momentum=0.9,\n",
       "     use_label_encoder=False, verbose=1,\n",
       "     y_tensor_type=TensorType(int32, vector))"
      ]
     },
     "execution_count": 15,
     "metadata": {},
     "output_type": "execute_result"
    }
   ],
   "source": [
    "# Method 1 - Not working yet\n",
    "nnet = NeuralNet(\n",
    "layers=[ # three layers: one hidden layer\n",
    "('input', layers.InputLayer),\n",
    "('hidden1', layers.DenseLayer),\n",
    "('hidden2', layers.DenseLayer),\n",
    "('hidden3', layers.DenseLayer),\n",
    "('output', layers.DenseLayer),\n",
    "],\n",
    "    \n",
    "# layer parameters:\n",
    "input_shape=(None, 1, 28, 28), # 96x96 input pixels per batch\n",
    "hidden1_num_units=500, # number of units i|n hidden layer\n",
    "hidden2_num_units=500, # number of units in hidden layer\n",
    "hidden3_num_units=500, # number of units in hidden layer\n",
    "output_nonlinearity= softmax, # output layer uses identity function\n",
    "output_num_units=10, # 30 target values\n",
    "    \n",
    "# optimization method:\n",
    "update=nesterov_momentum,\n",
    "update_learning_rate=0.05,\n",
    "update_momentum=0.9,\n",
    "regression=False, # flag to indicate we're dealing with regression problem\n",
    "max_epochs=20, # we want to train this many epochs\n",
    "verbose=1,\n",
    ")\n",
    "\n",
    "nnet.fit(X_train, y_train)"
   ]
  },
  {
   "cell_type": "code",
   "execution_count": 16,
   "metadata": {},
   "outputs": [
    {
     "data": {
      "text/plain": [
       "array([3, 8, 6, ..., 5, 6, 8], dtype=int64)"
      ]
     },
     "execution_count": 16,
     "metadata": {},
     "output_type": "execute_result"
    }
   ],
   "source": [
    "nnet.predict(X_val)"
   ]
  },
  {
   "cell_type": "code",
   "execution_count": 17,
   "metadata": {},
   "outputs": [
    {
     "data": {
      "text/plain": [
       "0.9798"
      ]
     },
     "execution_count": 17,
     "metadata": {},
     "output_type": "execute_result"
    }
   ],
   "source": [
    "nnet.score(X_val, y_val)"
   ]
  }
 ],
 "metadata": {
  "kernelspec": {
   "display_name": "Python 3",
   "language": "python",
   "name": "python3"
  },
  "language_info": {
   "codemirror_mode": {
    "name": "ipython",
    "version": 3
   },
   "file_extension": ".py",
   "mimetype": "text/x-python",
   "name": "python",
   "nbconvert_exporter": "python",
   "pygments_lexer": "ipython3",
   "version": "3.6.1"
  }
 },
 "nbformat": 4,
 "nbformat_minor": 2
}
